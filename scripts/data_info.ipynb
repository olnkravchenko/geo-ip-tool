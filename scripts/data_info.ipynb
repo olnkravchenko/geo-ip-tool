{
 "cells": [
  {
   "cell_type": "code",
   "execution_count": null,
   "id": "c6fda71c",
   "metadata": {},
   "outputs": [],
   "source": [
    "import pandas as pd\n",
    "import os\n",
    "import psycopg2\n",
    "from dotenv import load_dotenv\n",
    "from ipaddress import ip_network"
   ]
  },
  {
   "cell_type": "markdown",
   "id": "be19131b",
   "metadata": {},
   "source": [
    "## IPs dataset\n"
   ]
  },
  {
   "cell_type": "code",
   "execution_count": null,
   "id": "3c311e15",
   "metadata": {},
   "outputs": [],
   "source": [
    "df_ips = pd.read_csv('GeoLite2-City-Blocks-IPv4.csv', keep_default_na=False,na_values=[\"\", \"null\"])\n",
    "\n",
    "df_ips['geoname_id'].fillna(df_ips['registered_country_geoname_id'], inplace=True)\n",
    "\n",
    "df_ips[['latitude', 'longitude', 'accuracy_radius']] = df_ips.groupby(by='geoname_id')[['latitude', 'longitude', 'accuracy_radius']].transform(lambda group: group.ffill().bfill())\n",
    "\n",
    "df_ips = df_ips.drop(columns=['is_anonymous_proxy', 'is_satellite_provider', 'postal_code', 'is_anycast', 'represented_country_geoname_id', 'registered_country_geoname_id'])\n",
    "\n",
    "df_ips['geoname_id'] = df_ips['geoname_id'].astype(int)\n",
    "\n",
    "df_ips.isna().mean() * 100"
   ]
  },
  {
   "cell_type": "code",
   "execution_count": null,
   "id": "ff611341",
   "metadata": {},
   "outputs": [],
   "source": [
    "def ip_network2range(network: str) -> tuple[int, int]:\n",
    "    parsed = ip_network(network)\n",
    "    start_ip = int(parsed.network_address)\n",
    "    end_ip = int(parsed.broadcast_address)\n",
    "\n",
    "    return start_ip, end_ip"
   ]
  },
  {
   "cell_type": "markdown",
   "id": "40ba449f",
   "metadata": {},
   "source": [
    "network_parsed\n",
    "\n",
    "min 77.77.180.80/29\n",
    "\n",
    "max 212.222.190.128/29\n",
    "\n",
    "Name: 13281752.0, dtype: object\n"
   ]
  },
  {
   "cell_type": "code",
   "execution_count": null,
   "id": "feaf005b",
   "metadata": {},
   "outputs": [],
   "source": [
    "df_ips[['start_ip', 'end_ip']] = [ip_network2range(net) for net in df_ips['network']]\n",
    "df_ips"
   ]
  },
  {
   "cell_type": "markdown",
   "id": "1e6af574",
   "metadata": {},
   "source": [
    "## Countries dataset\n"
   ]
  },
  {
   "cell_type": "code",
   "execution_count": null,
   "id": "5f765480",
   "metadata": {},
   "outputs": [],
   "source": [
    "df_locs = pd.read_csv('GeoLite2-City-Locations-en.csv'\n",
    "                      ,keep_default_na=False,na_values=[\"\", \"null\"]).drop(columns=['is_in_european_union', 'metro_code','time_zone', 'locale_code'])"
   ]
  },
  {
   "cell_type": "markdown",
   "id": "667e5563",
   "metadata": {},
   "source": [
    "### Fix rows for Asia and Europe\n"
   ]
  },
  {
   "cell_type": "code",
   "execution_count": null,
   "id": "2a65138b",
   "metadata": {},
   "outputs": [],
   "source": [
    "df_locs.loc[73119,['country_iso_code', 'country_name']] = ['AA', 'Asia']\n",
    "df_locs.loc[73120,['country_iso_code', 'country_name']] = ['EU', 'Europe']\n",
    "df_locs[df_locs['geoname_id'].isin([6255147, 6255148])]\n"
   ]
  },
  {
   "cell_type": "code",
   "execution_count": null,
   "id": "c1546c03",
   "metadata": {},
   "outputs": [],
   "source": [
    "countries_df = df_locs[df_locs['subdivision_1_iso_code'].isna() & df_locs['city_name'].isna()].groupby(by='country_iso_code').first()\n",
    "countries_df\n",
    "\n",
    "# write to csv\n",
    "countries_df.to_csv('../build/data/countries.csv', columns=['geoname_id', 'country_name','continent_code', 'continent_name'])"
   ]
  },
  {
   "cell_type": "markdown",
   "id": "450a6b07",
   "metadata": {},
   "source": [
    "### Enrich dataset with correct country IDs\n"
   ]
  },
  {
   "cell_type": "code",
   "execution_count": null,
   "id": "020b2713",
   "metadata": {},
   "outputs": [],
   "source": [
    "df_ips_regions = df_ips.join(df_locs.set_index('geoname_id')['country_iso_code'], on='geoname_id', lsuffix='_ips', rsuffix='_locs')\n",
    "\n",
    "df_geoips = df_ips_regions.join(countries_df['geoname_id'], on='country_iso_code', lsuffix='_ips', rsuffix='_cntr')\n",
    "df_geoips\n",
    "\n",
    "# write to csv\n",
    "# df_geoips.to_csv('../build/data/geoips.csv', columns=['start_ip', 'end_ip', 'geoname_id_cntr', 'geoname_id_ips', 'latitude', 'longitude', 'accuracy_radius'], index_label='id')"
   ]
  },
  {
   "cell_type": "markdown",
   "id": "4ee67083",
   "metadata": {},
   "source": [
    "### Connect to DB and add data\n"
   ]
  },
  {
   "cell_type": "code",
   "execution_count": null,
   "id": "6e35bf52",
   "metadata": {},
   "outputs": [],
   "source": [
    "# load_dotenv('./build/.env')\n",
    "\n",
    "# DB_NAME = os.environ.get('PG_DB')\n",
    "# DB_PASSWORD = os.environ.get('PG_PASSWORD')\n",
    "# DB_PORT = os.environ.get('PG_PORT')\n",
    "# DB_USER = os.environ.get('PG_USER')\n",
    "# DB_HOST = 'localhost'"
   ]
  },
  {
   "cell_type": "code",
   "execution_count": null,
   "id": "78bab5ac",
   "metadata": {},
   "outputs": [],
   "source": [
    "# conn = psycopg2.connect(database=DB_NAME,\n",
    "#                         host=DB_HOST,\n",
    "#                         user=DB_USER,\n",
    "#                         password=DB_PASSWORD,\n",
    "#                         port=DB_PORT)"
   ]
  },
  {
   "cell_type": "code",
   "execution_count": null,
   "id": "a1bfb2f6",
   "metadata": {},
   "outputs": [],
   "source": [
    "# with conn.cursor() as cursor:\n",
    "#     cursor.execute('SELECT * FROM Country;')\n",
    "#     print(cursor.fetchone())"
   ]
  },
  {
   "cell_type": "code",
   "execution_count": null,
   "id": "ae339daa",
   "metadata": {},
   "outputs": [],
   "source": [
    "# conn.close()"
   ]
  }
 ],
 "metadata": {
  "kernelspec": {
   "display_name": "gen-env",
   "language": "python",
   "name": "python3"
  },
  "language_info": {
   "codemirror_mode": {
    "name": "ipython",
    "version": 3
   },
   "file_extension": ".py",
   "mimetype": "text/x-python",
   "name": "python",
   "nbconvert_exporter": "python",
   "pygments_lexer": "ipython3",
   "version": "3.12.7"
  }
 },
 "nbformat": 4,
 "nbformat_minor": 5
}
